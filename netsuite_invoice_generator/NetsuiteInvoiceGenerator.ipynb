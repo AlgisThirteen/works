{
 "cells": [
  {
   "cell_type": "markdown",
   "id": "ed75250e",
   "metadata": {},
   "source": [
    "## Useful links:\n",
    "\n",
    "Rest Browser: https://system.netsuite.com/help/helpcenter/en_US/APIs/REST_API_Browser/record/v1/2023.1/index.html"
   ]
  },
  {
   "cell_type": "code",
   "execution_count": null,
   "id": "0a4c8008",
   "metadata": {},
   "outputs": [],
   "source": [
    "#parameters\n",
    "import oauthlib.oauth1\n",
    "from requests_oauthlib import OAuth1\n",
    "import requests\n",
    "import json\n",
    "import pyautogui\n",
    "import time\n",
    "import webbrowser\n",
    "import os"
   ]
  },
  {
   "cell_type": "code",
   "execution_count": null,
   "id": "24a2ce14",
   "metadata": {},
   "outputs": [],
   "source": [
    "# creds... out in the open... splendid....\n",
    "consumer_key = ''\n",
    "consumer_sec = ''\n",
    "token_key = ''\n",
    "token_sec = ''\n",
    "signature_meth = ''\n",
    "realm = ''"
   ]
  },
  {
   "cell_type": "code",
   "execution_count": null,
   "id": "3567b9dd",
   "metadata": {},
   "outputs": [],
   "source": [
    "# Authentication\n",
    "auth = OAuth1(consumer_key, consumer_sec, token_key, token_sec, signature_type = 'auth_header',\n",
    "             realm =realm, signature_method = signature_meth)"
   ]
  },
  {
   "cell_type": "code",
   "execution_count": null,
   "id": "4ee6bce0",
   "metadata": {},
   "outputs": [],
   "source": [
    "base_uri = 'https://.suitetalk.api.netsuite.com'\n",
    "mid_uri = '/services/rest/record/v1'\n",
    "endpoint = '/invoice'"
   ]
  },
  {
   "cell_type": "code",
   "execution_count": null,
   "id": "3a64fc7e",
   "metadata": {},
   "outputs": [],
   "source": [
    "uri1 = 'https://.suitetalk.api.netsuite.com/services/rest/record/v1/invoice?limit=1000&offset=1000'"
   ]
  },
  {
   "cell_type": "code",
   "execution_count": null,
   "id": "97892946",
   "metadata": {},
   "outputs": [],
   "source": [
    "base_uri + mid_uri + endpoint"
   ]
  },
  {
   "cell_type": "code",
   "execution_count": null,
   "id": "e631430a",
   "metadata": {},
   "outputs": [],
   "source": [
    "response = requests.get(base_uri + mid_uri + endpoint, auth = auth).json()"
   ]
  },
  {
   "cell_type": "code",
   "execution_count": null,
   "id": "7d273670",
   "metadata": {
    "scrolled": false
   },
   "outputs": [],
   "source": [
    "invoice_list = []\n",
    "for i in response['links']:\n",
    "    sub_response = requests.get(i['href'], auth = auth).json()\n",
    "    for a in sub_response['items']:\n",
    "        invoice_list.append(a['id'])\n",
    "        "
   ]
  },
  {
   "cell_type": "code",
   "execution_count": null,
   "id": "409d2ac8",
   "metadata": {},
   "outputs": [],
   "source": [
    "url = 'https://.app.netsuite.com/app/accounting/print/hotprint.nl?regular=T&sethotprinter=T&formnumber=165&whence=&printtype=transaction&trantype=custinvc&recordtype=&label=Invoice&id='"
   ]
  },
  {
   "cell_type": "code",
   "execution_count": null,
   "id": "431fbb7d",
   "metadata": {},
   "outputs": [],
   "source": [
    "save_path = 'C:/Users/Finance/test/'\n",
    "chrome_path = 'chrome.exe %s'\n",
    "for i in invoice_list:\n",
    "    webbrowser.get(chrome_path).open(url + i)\n",
    "    time.sleep(5)\n",
    "    pyautogui.hotkey('ctrl', 's')\n",
    "    time.sleep(1)\n",
    "    pyautogui.typewrite(i + '.pdf')\n",
    "    time.sleep(1)\n",
    "    pyautogui.hotkey('enter')\n",
    "    time.sleep(1)\n",
    "    pyautogui.hotkey('ctrl', 'w')\n"
   ]
  },
  {
   "cell_type": "markdown",
   "id": "5f4be658",
   "metadata": {},
   "source": [
    "## Comparison of what was downloaded and whats available"
   ]
  },
  {
   "cell_type": "code",
   "execution_count": null,
   "id": "49241980",
   "metadata": {},
   "outputs": [],
   "source": [
    "# full list of invoices in NS\n",
    "len(invoice_list)"
   ]
  },
  {
   "cell_type": "code",
   "execution_count": null,
   "id": "dd348af7",
   "metadata": {},
   "outputs": [],
   "source": [
    "file_path = '~/IS_NS_Backup/Invoices'\n",
    "file_list = os.listdir(file_path)"
   ]
  },
  {
   "cell_type": "code",
   "execution_count": null,
   "id": "1fee52b1",
   "metadata": {},
   "outputs": [],
   "source": [
    "downloaded_list = []\n",
    "for i in file_list:\n",
    "    downloaded_list.append(i.split('.')[0])\n",
    "    "
   ]
  },
  {
   "cell_type": "code",
   "execution_count": null,
   "id": "dc6017ca",
   "metadata": {},
   "outputs": [],
   "source": [
    "# what was dowloaded\n",
    "len(downloaded_list)"
   ]
  },
  {
   "cell_type": "code",
   "execution_count": null,
   "id": "bd37919e",
   "metadata": {},
   "outputs": [],
   "source": [
    "residual = [i for i in invoice_list if i not in downloaded_list]"
   ]
  },
  {
   "cell_type": "code",
   "execution_count": null,
   "id": "8a06cacf",
   "metadata": {},
   "outputs": [],
   "source": [
    "# invoiceIDs that were not downloaded\n",
    "residual"
   ]
  },
  {
   "cell_type": "markdown",
   "id": "edb07e79",
   "metadata": {},
   "source": [
    "### Getting Inoice Ledger"
   ]
  },
  {
   "cell_type": "code",
   "execution_count": null,
   "id": "17beb3f2",
   "metadata": {},
   "outputs": [],
   "source": [
    "invoice_url = 'https://.suitetalk.api.netsuite.com/services/rest/record/v1/invoice/'"
   ]
  },
  {
   "cell_type": "code",
   "execution_count": null,
   "id": "7df3d61e",
   "metadata": {},
   "outputs": [],
   "source": [
    "invoice_ledger = []\n",
    "for i in invoice_list:\n",
    "    sublist = []\n",
    "    invoice = requests.get(invoice_url + i, auth = auth).json()\n",
    "    sublist.append(i)\n",
    "    sublist.append(invoice['subsidiary']['refName'])\n",
    "    sublist.append(invoice['tranId'])\n",
    "    sublist.append(invoice['entity']['refName'])\n",
    "    sublist.append(invoice['createdDate'].split('T')[0])\n",
    "    invoice_ledger.append(sublist)"
   ]
  }
 ],
 "metadata": {
  "kernelspec": {
   "display_name": "Python 3 (ipykernel)",
   "language": "python",
   "name": "python3"
  },
  "language_info": {
   "codemirror_mode": {
    "name": "ipython",
    "version": 3
   },
   "file_extension": ".py",
   "mimetype": "text/x-python",
   "name": "python",
   "nbconvert_exporter": "python",
   "pygments_lexer": "ipython3",
   "version": "3.12.3"
  }
 },
 "nbformat": 4,
 "nbformat_minor": 5
}
