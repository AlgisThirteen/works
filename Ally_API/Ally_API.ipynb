{
 "cells": [
  {
   "cell_type": "markdown",
   "id": "f1048978",
   "metadata": {},
   "source": [
    "## Inputs from the user"
   ]
  },
  {
   "cell_type": "code",
   "execution_count": 1,
   "id": "1b81e450",
   "metadata": {},
   "outputs": [],
   "source": [
    "# the tickers interesting for comparison\n",
    "\n",
    "my_symbols = ['']"
   ]
  },
  {
   "cell_type": "markdown",
   "id": "738b7668",
   "metadata": {},
   "source": [
    "## Libraries, Credentials and Requests"
   ]
  },
  {
   "cell_type": "code",
   "execution_count": 2,
   "id": "30b7a21a",
   "metadata": {},
   "outputs": [],
   "source": [
    "# adding libraries\n",
    "\n",
    "import requests\n",
    "import pandas as pd\n",
    "import json\n",
    "from requests_oauthlib import OAuth1\n",
    "import datetime\n",
    "import numpy as np\n",
    "\n",
    "pd.set_option('display.max_rows', 500)"
   ]
  },
  {
   "cell_type": "code",
   "execution_count": 3,
   "id": "5c249781",
   "metadata": {},
   "outputs": [],
   "source": [
    "# credentials for access\n",
    "consumer_key = ''\n",
    "consumer_secret = ''\n",
    "oAuth_token = ''\n",
    "oAuth_token_secret = ''\n",
    "\n",
    "# oAuth protocol for access\n",
    "auth = OAuth1(consumer_key, consumer_secret, oAuth_token, oAuth_token_secret)\n",
    "\n",
    "# uri for outputs\n",
    "uri_acct = 'https://devapi.invest.ally.com/v1/accounts.json'\n",
    "uri_hist = 'https://devapi.invest.ally.com/v1/accounts/'\n",
    "uri_hist2 = '/history.json'\n",
    "uri_stock = 'https://devapi.invest.ally.com/v1/market/ext/quotes.json'\n",
    "uri_option = 'https://devapi.invest.ally.com/v1/market/options/search.json'\n",
    "uri_option_strike = 'https://devapi.invest.ally.com/v1/market/options/strikes.json'\n",
    "uri_option_exp = 'https://devapi.invest.ally.com/v1/market/options/expirations.json'\n",
    "\n",
    "# API call extensions\n",
    "stock_symbol = '?symbols='\n",
    "symbol_call = '?symbol='\n",
    "date_qry = '&query=xdate-eq%3A'"
   ]
  },
  {
   "cell_type": "markdown",
   "id": "efe23d4e",
   "metadata": {},
   "source": [
    "## Current Open Positions"
   ]
  },
  {
   "cell_type": "code",
   "execution_count": 4,
   "id": "9a06583d",
   "metadata": {},
   "outputs": [
    {
     "ename": "JSONDecodeError",
     "evalue": "Expecting value: line 1 column 1 (char 0)",
     "output_type": "error",
     "traceback": [
      "\u001b[0;31m---------------------------------------------------------------------------\u001b[0m",
      "\u001b[0;31mJSONDecodeError\u001b[0m                           Traceback (most recent call last)",
      "Cell \u001b[0;32mIn[4], line 1\u001b[0m\n\u001b[0;32m----> 1\u001b[0m accounts \u001b[38;5;241m=\u001b[39m \u001b[43mrequests\u001b[49m\u001b[38;5;241;43m.\u001b[39;49m\u001b[43mget\u001b[49m\u001b[43m(\u001b[49m\u001b[43muri_acct\u001b[49m\u001b[43m,\u001b[49m\u001b[43m \u001b[49m\u001b[43mauth\u001b[49m\u001b[43m \u001b[49m\u001b[38;5;241;43m=\u001b[39;49m\u001b[43m \u001b[49m\u001b[43mauth\u001b[49m\u001b[43m)\u001b[49m\u001b[38;5;241;43m.\u001b[39;49m\u001b[43mjson\u001b[49m\u001b[43m(\u001b[49m\u001b[43m)\u001b[49m\n\u001b[1;32m      2\u001b[0m my_accounts \u001b[38;5;241m=\u001b[39m {}\n\u001b[1;32m      3\u001b[0m \u001b[38;5;28;01mfor\u001b[39;00m i \u001b[38;5;129;01min\u001b[39;00m accounts[\u001b[38;5;124m'\u001b[39m\u001b[38;5;124mresponse\u001b[39m\u001b[38;5;124m'\u001b[39m][\u001b[38;5;124m'\u001b[39m\u001b[38;5;124maccounts\u001b[39m\u001b[38;5;124m'\u001b[39m][\u001b[38;5;124m'\u001b[39m\u001b[38;5;124maccountsummary\u001b[39m\u001b[38;5;124m'\u001b[39m]:\n",
      "File \u001b[0;32m/usr/lib/python3/dist-packages/requests/models.py:900\u001b[0m, in \u001b[0;36mResponse.json\u001b[0;34m(self, **kwargs)\u001b[0m\n\u001b[1;32m    894\u001b[0m         \u001b[38;5;28;01mexcept\u001b[39;00m \u001b[38;5;167;01mUnicodeDecodeError\u001b[39;00m:\n\u001b[1;32m    895\u001b[0m             \u001b[38;5;66;03m# Wrong UTF codec detected; usually because it's not UTF-8\u001b[39;00m\n\u001b[1;32m    896\u001b[0m             \u001b[38;5;66;03m# but some other 8-bit codec.  This is an RFC violation,\u001b[39;00m\n\u001b[1;32m    897\u001b[0m             \u001b[38;5;66;03m# and the server didn't bother to tell us what codec *was*\u001b[39;00m\n\u001b[1;32m    898\u001b[0m             \u001b[38;5;66;03m# used.\u001b[39;00m\n\u001b[1;32m    899\u001b[0m             \u001b[38;5;28;01mpass\u001b[39;00m\n\u001b[0;32m--> 900\u001b[0m \u001b[38;5;28;01mreturn\u001b[39;00m \u001b[43mcomplexjson\u001b[49m\u001b[38;5;241;43m.\u001b[39;49m\u001b[43mloads\u001b[49m\u001b[43m(\u001b[49m\u001b[38;5;28;43mself\u001b[39;49m\u001b[38;5;241;43m.\u001b[39;49m\u001b[43mtext\u001b[49m\u001b[43m,\u001b[49m\u001b[43m \u001b[49m\u001b[38;5;241;43m*\u001b[39;49m\u001b[38;5;241;43m*\u001b[39;49m\u001b[43mkwargs\u001b[49m\u001b[43m)\u001b[49m\n",
      "File \u001b[0;32m/usr/lib/python3/dist-packages/simplejson/__init__.py:525\u001b[0m, in \u001b[0;36mloads\u001b[0;34m(s, encoding, cls, object_hook, parse_float, parse_int, parse_constant, object_pairs_hook, use_decimal, **kw)\u001b[0m\n\u001b[1;32m    477\u001b[0m \u001b[38;5;250m\u001b[39m\u001b[38;5;124;03m\"\"\"Deserialize ``s`` (a ``str`` or ``unicode`` instance containing a JSON\u001b[39;00m\n\u001b[1;32m    478\u001b[0m \u001b[38;5;124;03mdocument) to a Python object.\u001b[39;00m\n\u001b[1;32m    479\u001b[0m \n\u001b[0;32m   (...)\u001b[0m\n\u001b[1;32m    519\u001b[0m \n\u001b[1;32m    520\u001b[0m \u001b[38;5;124;03m\"\"\"\u001b[39;00m\n\u001b[1;32m    521\u001b[0m \u001b[38;5;28;01mif\u001b[39;00m (\u001b[38;5;28mcls\u001b[39m \u001b[38;5;129;01mis\u001b[39;00m \u001b[38;5;28;01mNone\u001b[39;00m \u001b[38;5;129;01mand\u001b[39;00m encoding \u001b[38;5;129;01mis\u001b[39;00m \u001b[38;5;28;01mNone\u001b[39;00m \u001b[38;5;129;01mand\u001b[39;00m object_hook \u001b[38;5;129;01mis\u001b[39;00m \u001b[38;5;28;01mNone\u001b[39;00m \u001b[38;5;129;01mand\u001b[39;00m\n\u001b[1;32m    522\u001b[0m         parse_int \u001b[38;5;129;01mis\u001b[39;00m \u001b[38;5;28;01mNone\u001b[39;00m \u001b[38;5;129;01mand\u001b[39;00m parse_float \u001b[38;5;129;01mis\u001b[39;00m \u001b[38;5;28;01mNone\u001b[39;00m \u001b[38;5;129;01mand\u001b[39;00m\n\u001b[1;32m    523\u001b[0m         parse_constant \u001b[38;5;129;01mis\u001b[39;00m \u001b[38;5;28;01mNone\u001b[39;00m \u001b[38;5;129;01mand\u001b[39;00m object_pairs_hook \u001b[38;5;129;01mis\u001b[39;00m \u001b[38;5;28;01mNone\u001b[39;00m\n\u001b[1;32m    524\u001b[0m         \u001b[38;5;129;01mand\u001b[39;00m \u001b[38;5;129;01mnot\u001b[39;00m use_decimal \u001b[38;5;129;01mand\u001b[39;00m \u001b[38;5;129;01mnot\u001b[39;00m kw):\n\u001b[0;32m--> 525\u001b[0m     \u001b[38;5;28;01mreturn\u001b[39;00m \u001b[43m_default_decoder\u001b[49m\u001b[38;5;241;43m.\u001b[39;49m\u001b[43mdecode\u001b[49m\u001b[43m(\u001b[49m\u001b[43ms\u001b[49m\u001b[43m)\u001b[49m\n\u001b[1;32m    526\u001b[0m \u001b[38;5;28;01mif\u001b[39;00m \u001b[38;5;28mcls\u001b[39m \u001b[38;5;129;01mis\u001b[39;00m \u001b[38;5;28;01mNone\u001b[39;00m:\n\u001b[1;32m    527\u001b[0m     \u001b[38;5;28mcls\u001b[39m \u001b[38;5;241m=\u001b[39m JSONDecoder\n",
      "File \u001b[0;32m/usr/lib/python3/dist-packages/simplejson/decoder.py:370\u001b[0m, in \u001b[0;36mJSONDecoder.decode\u001b[0;34m(self, s, _w, _PY3)\u001b[0m\n\u001b[1;32m    368\u001b[0m \u001b[38;5;28;01mif\u001b[39;00m _PY3 \u001b[38;5;129;01mand\u001b[39;00m \u001b[38;5;28misinstance\u001b[39m(s, \u001b[38;5;28mbytes\u001b[39m):\n\u001b[1;32m    369\u001b[0m     s \u001b[38;5;241m=\u001b[39m \u001b[38;5;28mstr\u001b[39m(s, \u001b[38;5;28mself\u001b[39m\u001b[38;5;241m.\u001b[39mencoding)\n\u001b[0;32m--> 370\u001b[0m obj, end \u001b[38;5;241m=\u001b[39m \u001b[38;5;28;43mself\u001b[39;49m\u001b[38;5;241;43m.\u001b[39;49m\u001b[43mraw_decode\u001b[49m\u001b[43m(\u001b[49m\u001b[43ms\u001b[49m\u001b[43m)\u001b[49m\n\u001b[1;32m    371\u001b[0m end \u001b[38;5;241m=\u001b[39m _w(s, end)\u001b[38;5;241m.\u001b[39mend()\n\u001b[1;32m    372\u001b[0m \u001b[38;5;28;01mif\u001b[39;00m end \u001b[38;5;241m!=\u001b[39m \u001b[38;5;28mlen\u001b[39m(s):\n",
      "File \u001b[0;32m/usr/lib/python3/dist-packages/simplejson/decoder.py:400\u001b[0m, in \u001b[0;36mJSONDecoder.raw_decode\u001b[0;34m(self, s, idx, _w, _PY3)\u001b[0m\n\u001b[1;32m    398\u001b[0m     \u001b[38;5;28;01melif\u001b[39;00m ord0 \u001b[38;5;241m==\u001b[39m \u001b[38;5;241m0xef\u001b[39m \u001b[38;5;129;01mand\u001b[39;00m s[idx:idx \u001b[38;5;241m+\u001b[39m \u001b[38;5;241m3\u001b[39m] \u001b[38;5;241m==\u001b[39m \u001b[38;5;124m'\u001b[39m\u001b[38;5;130;01m\\xef\u001b[39;00m\u001b[38;5;130;01m\\xbb\u001b[39;00m\u001b[38;5;130;01m\\xbf\u001b[39;00m\u001b[38;5;124m'\u001b[39m:\n\u001b[1;32m    399\u001b[0m         idx \u001b[38;5;241m+\u001b[39m\u001b[38;5;241m=\u001b[39m \u001b[38;5;241m3\u001b[39m\n\u001b[0;32m--> 400\u001b[0m \u001b[38;5;28;01mreturn\u001b[39;00m \u001b[38;5;28;43mself\u001b[39;49m\u001b[38;5;241;43m.\u001b[39;49m\u001b[43mscan_once\u001b[49m\u001b[43m(\u001b[49m\u001b[43ms\u001b[49m\u001b[43m,\u001b[49m\u001b[43m \u001b[49m\u001b[43midx\u001b[49m\u001b[38;5;241;43m=\u001b[39;49m\u001b[43m_w\u001b[49m\u001b[43m(\u001b[49m\u001b[43ms\u001b[49m\u001b[43m,\u001b[49m\u001b[43m \u001b[49m\u001b[43midx\u001b[49m\u001b[43m)\u001b[49m\u001b[38;5;241;43m.\u001b[39;49m\u001b[43mend\u001b[49m\u001b[43m(\u001b[49m\u001b[43m)\u001b[49m\u001b[43m)\u001b[49m\n",
      "\u001b[0;31mJSONDecodeError\u001b[0m: Expecting value: line 1 column 1 (char 0)"
     ]
    }
   ],
   "source": [
    "accounts = requests.get(uri_acct, auth = auth).json()\n",
    "my_accounts = {}\n",
    "for i in accounts['response']['accounts']['accountsummary']:\n",
    "    my_accounts[i['account']] = i['accountbalance']['money']['cashavailable']\n",
    "    \n",
    "rollover_acct, personal_acct, rollover_balance, personal_balance = 0, 0, 0, 0\n",
    "personal_hold, rollover_hold = [], []\n",
    "for key, balance in  my_accounts.items():\n",
    "    if str(key)[-2:] == '53':\n",
    "        rollover_acct = key\n",
    "        rollover_balance = balance\n",
    "    elif str(key)[-2:] == '81':\n",
    "        personal_acct = key\n",
    "        personal_balance = balance\n",
    "    else:\n",
    "        print('New account')"
   ]
  },
  {
   "cell_type": "code",
   "execution_count": null,
   "id": "737b2788",
   "metadata": {},
   "outputs": [],
   "source": [
    "print(f'Personal Account: {personal_balance}')\n",
    "print(f'Rollover Account: {rollover_balance}')"
   ]
  },
  {
   "cell_type": "code",
   "execution_count": null,
   "id": "9fffd35e",
   "metadata": {},
   "outputs": [],
   "source": [
    "held_tickers = {}\n",
    "for acct in accounts['response']['accounts']['accountsummary']:\n",
    "    all_positions = [] \n",
    "    for position in acct['accountholdings']['holding']:\n",
    "        position_sub = []\n",
    "        position_sub.append(position['displaydata']['symbol'])\n",
    "        position_sub.append(position['displaydata']['assetclass'])\n",
    "        position_sub.append(position['displaydata']['qty'])\n",
    "        position_sub.append(position['displaydata']['marketvalue'])\n",
    "        position_sub.append(position['displaydata']['accounttype'])\n",
    "        all_positions.append(position_sub)\n",
    "\n",
    "    if acct['account'][-2:] == '53':\n",
    "        held_tickers[acct['account']] = all_positions\n",
    "    elif acct['account'][-2:] == '81':\n",
    "        held_tickers[acct['account']] = all_positions\n",
    "        \n",
    "    else:\n",
    "        held_tickers['other'] = all_positions\n",
    "    \n",
    "        "
   ]
  },
  {
   "cell_type": "markdown",
   "id": "b4f256d4",
   "metadata": {},
   "source": [
    "## Trading History"
   ]
  },
  {
   "cell_type": "code",
   "execution_count": null,
   "id": "ffe80fd1",
   "metadata": {},
   "outputs": [],
   "source": [
    "all_trades = {}\n",
    "for acct in my_accounts.keys():\n",
    "    trades = []\n",
    "    history = requests.get(uri_hist + acct + uri_hist2, auth = auth).json()\n",
    "    for trade in history['response']['transactions']['transaction']:\n",
    "        sub_trade = []\n",
    "        if trade['transaction']['security']['sectyp'] == 'OPT' and trade['desc'][-3:] == 'Put':\n",
    "            sub_trade.append(trade['desc'][-3:])\n",
    "        elif trade['transaction']['security']['sectyp'] == 'OPT' and trade['desc'][-4:] == 'Call':\n",
    "            sub_trade.append(trade['desc'][-4:])\n",
    "        elif trade['transaction']['security']['sectyp'] == 'CS' and trade['activity'] in ['Trade', 'Assigned']:\n",
    "            sub_trade.append('Stock')\n",
    "        elif trade['transaction']['security']['sectyp'] == 'CS' and trade['activity'] == 'Dividend':\n",
    "            sub_trade.append('Divident')\n",
    "        else:\n",
    "            sub_trade.append('Other')\n",
    "        sub_trade.append(trade['symbol'])\n",
    "        sub_trade.append(trade['activity'])\n",
    "        sub_trade.append(trade['date'].split('T')[0])\n",
    "        sub_trade.append(trade['transaction']['quantity'])\n",
    "        sub_trade.append(trade['transaction']['price'])\n",
    "        sub_trade.append(trade['transaction']['commission'])\n",
    "        sub_trade.append(trade['transaction']['fee'])\n",
    "        sub_trade.append(trade['transaction']['secfee'])\n",
    "        sub_trade.append(trade['amount'])\n",
    "        trades.append(sub_trade)\n",
    "    all_trades[acct] = trades\n",
    "    \n",
    "all_traded_ticks = {}\n",
    "for acct, trades in all_trades.items():\n",
    "    sub_traded_ticks = []\n",
    "    for trade in trades:\n",
    "        if trade[0] == 'Stock' and trade[1] not in sub_traded_ticks:\n",
    "            sub_traded_ticks.append(trade[1])\n",
    "    all_traded_ticks[acct] = sub_traded_ticks"
   ]
  },
  {
   "cell_type": "code",
   "execution_count": null,
   "id": "f347128c",
   "metadata": {},
   "outputs": [],
   "source": [
    "for key, trades in all_trades.items():\n",
    "    for trade in trades:\n",
    "        if trade[1] != '':\n",
    "            print(f'{key} {trade}')"
   ]
  },
  {
   "cell_type": "code",
   "execution_count": null,
   "id": "3bc70be1",
   "metadata": {},
   "outputs": [],
   "source": [
    "\n",
    "\n",
    "trades = []\n",
    "test_split = [trade for trade in all_trades['38746981'] if trade[1] in ['MQ', 'ROKU', 'V']]\n",
    "for item in test_split:\n",
    "    if item[0] not in set([trade[1] for trade in test_split]):\n",
    "        if item[0] == 'Stock' and int(trade[4]) > 0:\n",
    "            print(item)\n",
    "            \n",
    "    \n",
    "    \n",
    "        "
   ]
  },
  {
   "cell_type": "code",
   "execution_count": null,
   "id": "648cd12a",
   "metadata": {},
   "outputs": [],
   "source": [
    "discard_pile = ['Divident']\n",
    "used_indexes = {}\n",
    "# ticker, purchase_date, breakeven_price, sell_date, sell_price\n",
    "stock_positions = {}\n",
    "used_indexes = {}\n",
    "for acct in all_traded_ticks.keys():\n",
    "    traded_tickers = all_traded_ticks[acct]\n",
    "    sub_stock_positions = []\n",
    "    sub_used_indexes = []\n",
    "    for trade in all_trades[acct]:\n",
    "        if trade[1] in traded_tickers:\n",
    "            print(trade)\n",
    "            \n",
    "            \n",
    "    "
   ]
  },
  {
   "cell_type": "code",
   "execution_count": null,
   "id": "84b373cb",
   "metadata": {},
   "outputs": [],
   "source": [
    "discard_pile = ['Divident', 'Other']\n",
    "used_indexes = {}\n",
    "# ticker, purchase_date, breakeven_price, sell_date, sell_price\n",
    "stock_positions = {}\n",
    "used_indexes = {}\n",
    "for acct in all_traded_ticks.keys():\n",
    "    traded_tickers = all_traded_ticks[acct]\n",
    "    sub_stock_positions = []\n",
    "    sub_used_indexes = []\n",
    "    for trade in all_trades[acct]:\n",
    "        if trade[1] in traded_tickers:\n",
    "            sub_stack = []\n",
    "            if trade[0] == 'Stock' and int(trade[4]) > 0:\n",
    "                # This find the first\n",
    "                curr_tick = trade[1]\n",
    "                breakeven_price = float(trade[5])\n",
    "                buy_qty = trade[4]\n",
    "                buy_date = trade[3]\n",
    "                sold_price = 0\n",
    "                sold_date = 0\n",
    "                sold_qty = 0\n",
    "                buy_index = all_trades[acct].index(trade)\n",
    "                curr_index = all_trades[acct].index(trade) + 1\n",
    "                sub_used_indexes.append(buy_index)\n",
    "                while curr_index < len(all_trades[acct]) - 1:\n",
    "                    if all_trades[acct][curr_index][1] == curr_tick and all_trades[acct][curr_index][0] not in discard_pile:\n",
    "                        breakeven_price += abs(float(all_trades[acct][curr_index][9])) / int(all_trades[acct][curr_index][4]) / 100\n",
    "                        sub_used_indexes.append(curr_index)\n",
    "                    curr_index += 1\n",
    "                    if all_trades[acct][curr_index][0] == 'Stock' and all_trades[acct][curr_index][1] == curr_tick:\n",
    "                        sold_price = all_trades[acct][curr_index][5]\n",
    "                        sold_qty = all_trades[acct][curr_index][4]\n",
    "                        sold_date = all_trades[acct][curr_index][3]\n",
    "                        sold_index = curr_index\n",
    "                        sub_used_indexes.append(sold_index)\n",
    "                        curr_index = len(all_trades[acct])\n",
    "                sub_stack.append(curr_tick)\n",
    "                sub_stack.append(buy_date)\n",
    "                sub_stack.append(sold_date)\n",
    "                sub_stack.append(breakeven_price)\n",
    "                sub_stack.append(sold_price)\n",
    "                sub_stack.append(buy_qty)\n",
    "                sub_stack.append(sold_qty)\n",
    "                sub_stock_positions.append(sub_stack)\n",
    "        stock_positions[acct] = sub_stock_positions\n",
    "        sub_used_indexes.sort(reverse=True)\n",
    "        used_indexes[acct] = sub_used_indexes"
   ]
  },
  {
   "cell_type": "code",
   "execution_count": null,
   "id": "efb9dd91",
   "metadata": {},
   "outputs": [],
   "source": [
    "for acct, trades in all_trades.items():\n",
    "    if acct == '':\n",
    "        for trade in trades:\n",
    "            if trade[1] =='V':\n",
    "                print(trade)"
   ]
  },
  {
   "cell_type": "code",
   "execution_count": null,
   "id": "57fc48f6",
   "metadata": {},
   "outputs": [],
   "source": [
    "# trades that didnt make it into the position rollup\n",
    "all_residual = all_trades.copy()\n",
    "for acct in my_accounts.keys():\n",
    "    all_residual[acct] = [all_residual[acct].pop(index) for index in used_indexes[acct]]"
   ]
  },
  {
   "cell_type": "code",
   "execution_count": null,
   "id": "415f49b1",
   "metadata": {},
   "outputs": [],
   "source": [
    "#separating open and closed positions\n",
    "open_position, closed_position = {}, {}\n",
    "for acct in my_accounts.keys():\n",
    "    active_tickers =  [item[0] for item in held_tickers[acct] if item[1] == \"Stock\"]\n",
    "    sub_open, sub_closed = [], []\n",
    "    for position in stock_positions[acct]:\n",
    "        if position[0] in active_tickers:\n",
    "            sub_open.append(position)\n",
    "        else:\n",
    "            sub_closed.append(position)\n",
    "    open_position[acct] = sub_open\n",
    "    closed_position[acct] = sub_closed\n",
    "\n",
    "trades_output = []\n",
    "for key, trades in open_position.items():\n",
    "    if key[-2:] == '81':\n",
    "        account = 'Personal'\n",
    "    elif key[-2:] == '53':\n",
    "        account = 'Rollover'\n",
    "    else:\n",
    "        account = 'None'\n",
    "    for trade in trades:\n",
    "        sub_trades_output = []\n",
    "        sub_trades_output.append(account)\n",
    "        sub_trades_output.append(trade[0])\n",
    "        sub_trades_output.append(trade[1])\n",
    "        sub_trades_output.append(trade[3])\n",
    "        sub_trades_output.append(trade[5])\n",
    "        trades_output.append(sub_trades_output)\n",
    "open_positions_df = pd.DataFrame(trades_output, columns=['Account', 'Ticker', 'Purchase Date',\n",
    "                                                        'Breakeven Price', 'Holding Qantity'])\n",
    "\n",
    "closed_trades = []\n",
    "for key, trades in closed_position.items():\n",
    "    if key[-2:] == '81':\n",
    "        account = 'Personal'\n",
    "    elif key[-2:] == '53':\n",
    "        account = 'Rollover'\n",
    "    else:\n",
    "        account = 'None'\n",
    "    for trade in trades:\n",
    "        sub_trades_output = []\n",
    "        sub_trades_output.append(account)\n",
    "        sub_trades_output.append(trade[0])\n",
    "        sub_trades_output.append(trade[1])\n",
    "        sub_trades_output.append(trade[2])\n",
    "        sub_trades_output.append(trade[3])\n",
    "        sub_trades_output.append(trade[4])\n",
    "        sub_trades_output.append(trade[5])\n",
    "        sub_trades_output.append(trade[6])\n",
    "        sub_trades_output.append(float(trade[4]) - float(trade[3]))\n",
    "        sub_trades_output.append(float(trade[6]) + float(trade[5]))\n",
    "        closed_trades.append(sub_trades_output)\n",
    "closed_trades_df = pd.DataFrame(closed_trades, columns = ['Account', 'Ticker', 'Purchase Date', 'Sell Date',\n",
    "                                                         'Breakeven Price', 'Sell Price', 'Hold Quantity',\n",
    "                                                         'Sold Quantity', 'Profit/Loss', 'Remaining Quantity'])\n"
   ]
  },
  {
   "cell_type": "code",
   "execution_count": null,
   "id": "c04a2ddb",
   "metadata": {},
   "outputs": [],
   "source": [
    "closed_trades_df[closed_trades_df['Ticker'] == 'V']"
   ]
  },
  {
   "cell_type": "code",
   "execution_count": null,
   "id": "cf025dcc",
   "metadata": {},
   "outputs": [],
   "source": [
    "open_positions_df"
   ]
  },
  {
   "cell_type": "markdown",
   "id": "c02a879d",
   "metadata": {},
   "source": [
    "## Getting Puts for investment"
   ]
  },
  {
   "cell_type": "code",
   "execution_count": 4,
   "id": "4181e160",
   "metadata": {
    "scrolled": true
   },
   "outputs": [
    {
     "ename": "JSONDecodeError",
     "evalue": "Expecting value: line 1 column 1 (char 0)",
     "output_type": "error",
     "traceback": [
      "\u001b[0;31m---------------------------------------------------------------------------\u001b[0m",
      "\u001b[0;31mJSONDecodeError\u001b[0m                           Traceback (most recent call last)",
      "Cell \u001b[0;32mIn[4], line 7\u001b[0m\n\u001b[1;32m      4\u001b[0m symbol_dict \u001b[38;5;241m=\u001b[39m {}\n\u001b[1;32m      5\u001b[0m \u001b[38;5;28;01mfor\u001b[39;00m s \u001b[38;5;129;01min\u001b[39;00m my_symbols:\n\u001b[1;32m      6\u001b[0m     \u001b[38;5;66;03m# pulling dates for curreny symbol\u001b[39;00m\n\u001b[0;32m----> 7\u001b[0m     dates \u001b[38;5;241m=\u001b[39m \u001b[43mrequests\u001b[49m\u001b[38;5;241;43m.\u001b[39;49m\u001b[43mget\u001b[49m\u001b[43m(\u001b[49m\u001b[43muri_option_exp\u001b[49m\u001b[43m \u001b[49m\u001b[38;5;241;43m+\u001b[39;49m\u001b[43m \u001b[49m\u001b[43msymbol_call\u001b[49m\u001b[43m \u001b[49m\u001b[38;5;241;43m+\u001b[39;49m\u001b[43m \u001b[49m\u001b[43ms\u001b[49m\u001b[43m,\u001b[49m\u001b[43m \u001b[49m\u001b[43mauth\u001b[49m\u001b[43m \u001b[49m\u001b[38;5;241;43m=\u001b[39;49m\u001b[43m \u001b[49m\u001b[43mauth\u001b[49m\u001b[43m)\u001b[49m\u001b[38;5;241;43m.\u001b[39;49m\u001b[43mjson\u001b[49m\u001b[43m(\u001b[49m\u001b[43m)\u001b[49m\n\u001b[1;32m      8\u001b[0m     expiration_dates \u001b[38;5;241m=\u001b[39m dates[\u001b[38;5;124m'\u001b[39m\u001b[38;5;124mresponse\u001b[39m\u001b[38;5;124m'\u001b[39m][\u001b[38;5;124m'\u001b[39m\u001b[38;5;124mexpirationdates\u001b[39m\u001b[38;5;124m'\u001b[39m][\u001b[38;5;124m'\u001b[39m\u001b[38;5;124mdate\u001b[39m\u001b[38;5;124m'\u001b[39m]\n\u001b[1;32m     10\u001b[0m     exp_date_list \u001b[38;5;241m=\u001b[39m []\n",
      "File \u001b[0;32m/usr/lib/python3/dist-packages/requests/models.py:900\u001b[0m, in \u001b[0;36mResponse.json\u001b[0;34m(self, **kwargs)\u001b[0m\n\u001b[1;32m    894\u001b[0m         \u001b[38;5;28;01mexcept\u001b[39;00m \u001b[38;5;167;01mUnicodeDecodeError\u001b[39;00m:\n\u001b[1;32m    895\u001b[0m             \u001b[38;5;66;03m# Wrong UTF codec detected; usually because it's not UTF-8\u001b[39;00m\n\u001b[1;32m    896\u001b[0m             \u001b[38;5;66;03m# but some other 8-bit codec.  This is an RFC violation,\u001b[39;00m\n\u001b[1;32m    897\u001b[0m             \u001b[38;5;66;03m# and the server didn't bother to tell us what codec *was*\u001b[39;00m\n\u001b[1;32m    898\u001b[0m             \u001b[38;5;66;03m# used.\u001b[39;00m\n\u001b[1;32m    899\u001b[0m             \u001b[38;5;28;01mpass\u001b[39;00m\n\u001b[0;32m--> 900\u001b[0m \u001b[38;5;28;01mreturn\u001b[39;00m \u001b[43mcomplexjson\u001b[49m\u001b[38;5;241;43m.\u001b[39;49m\u001b[43mloads\u001b[49m\u001b[43m(\u001b[49m\u001b[38;5;28;43mself\u001b[39;49m\u001b[38;5;241;43m.\u001b[39;49m\u001b[43mtext\u001b[49m\u001b[43m,\u001b[49m\u001b[43m \u001b[49m\u001b[38;5;241;43m*\u001b[39;49m\u001b[38;5;241;43m*\u001b[39;49m\u001b[43mkwargs\u001b[49m\u001b[43m)\u001b[49m\n",
      "File \u001b[0;32m/usr/lib/python3/dist-packages/simplejson/__init__.py:525\u001b[0m, in \u001b[0;36mloads\u001b[0;34m(s, encoding, cls, object_hook, parse_float, parse_int, parse_constant, object_pairs_hook, use_decimal, **kw)\u001b[0m\n\u001b[1;32m    477\u001b[0m \u001b[38;5;250m\u001b[39m\u001b[38;5;124;03m\"\"\"Deserialize ``s`` (a ``str`` or ``unicode`` instance containing a JSON\u001b[39;00m\n\u001b[1;32m    478\u001b[0m \u001b[38;5;124;03mdocument) to a Python object.\u001b[39;00m\n\u001b[1;32m    479\u001b[0m \n\u001b[0;32m   (...)\u001b[0m\n\u001b[1;32m    519\u001b[0m \n\u001b[1;32m    520\u001b[0m \u001b[38;5;124;03m\"\"\"\u001b[39;00m\n\u001b[1;32m    521\u001b[0m \u001b[38;5;28;01mif\u001b[39;00m (\u001b[38;5;28mcls\u001b[39m \u001b[38;5;129;01mis\u001b[39;00m \u001b[38;5;28;01mNone\u001b[39;00m \u001b[38;5;129;01mand\u001b[39;00m encoding \u001b[38;5;129;01mis\u001b[39;00m \u001b[38;5;28;01mNone\u001b[39;00m \u001b[38;5;129;01mand\u001b[39;00m object_hook \u001b[38;5;129;01mis\u001b[39;00m \u001b[38;5;28;01mNone\u001b[39;00m \u001b[38;5;129;01mand\u001b[39;00m\n\u001b[1;32m    522\u001b[0m         parse_int \u001b[38;5;129;01mis\u001b[39;00m \u001b[38;5;28;01mNone\u001b[39;00m \u001b[38;5;129;01mand\u001b[39;00m parse_float \u001b[38;5;129;01mis\u001b[39;00m \u001b[38;5;28;01mNone\u001b[39;00m \u001b[38;5;129;01mand\u001b[39;00m\n\u001b[1;32m    523\u001b[0m         parse_constant \u001b[38;5;129;01mis\u001b[39;00m \u001b[38;5;28;01mNone\u001b[39;00m \u001b[38;5;129;01mand\u001b[39;00m object_pairs_hook \u001b[38;5;129;01mis\u001b[39;00m \u001b[38;5;28;01mNone\u001b[39;00m\n\u001b[1;32m    524\u001b[0m         \u001b[38;5;129;01mand\u001b[39;00m \u001b[38;5;129;01mnot\u001b[39;00m use_decimal \u001b[38;5;129;01mand\u001b[39;00m \u001b[38;5;129;01mnot\u001b[39;00m kw):\n\u001b[0;32m--> 525\u001b[0m     \u001b[38;5;28;01mreturn\u001b[39;00m \u001b[43m_default_decoder\u001b[49m\u001b[38;5;241;43m.\u001b[39;49m\u001b[43mdecode\u001b[49m\u001b[43m(\u001b[49m\u001b[43ms\u001b[49m\u001b[43m)\u001b[49m\n\u001b[1;32m    526\u001b[0m \u001b[38;5;28;01mif\u001b[39;00m \u001b[38;5;28mcls\u001b[39m \u001b[38;5;129;01mis\u001b[39;00m \u001b[38;5;28;01mNone\u001b[39;00m:\n\u001b[1;32m    527\u001b[0m     \u001b[38;5;28mcls\u001b[39m \u001b[38;5;241m=\u001b[39m JSONDecoder\n",
      "File \u001b[0;32m/usr/lib/python3/dist-packages/simplejson/decoder.py:370\u001b[0m, in \u001b[0;36mJSONDecoder.decode\u001b[0;34m(self, s, _w, _PY3)\u001b[0m\n\u001b[1;32m    368\u001b[0m \u001b[38;5;28;01mif\u001b[39;00m _PY3 \u001b[38;5;129;01mand\u001b[39;00m \u001b[38;5;28misinstance\u001b[39m(s, \u001b[38;5;28mbytes\u001b[39m):\n\u001b[1;32m    369\u001b[0m     s \u001b[38;5;241m=\u001b[39m \u001b[38;5;28mstr\u001b[39m(s, \u001b[38;5;28mself\u001b[39m\u001b[38;5;241m.\u001b[39mencoding)\n\u001b[0;32m--> 370\u001b[0m obj, end \u001b[38;5;241m=\u001b[39m \u001b[38;5;28;43mself\u001b[39;49m\u001b[38;5;241;43m.\u001b[39;49m\u001b[43mraw_decode\u001b[49m\u001b[43m(\u001b[49m\u001b[43ms\u001b[49m\u001b[43m)\u001b[49m\n\u001b[1;32m    371\u001b[0m end \u001b[38;5;241m=\u001b[39m _w(s, end)\u001b[38;5;241m.\u001b[39mend()\n\u001b[1;32m    372\u001b[0m \u001b[38;5;28;01mif\u001b[39;00m end \u001b[38;5;241m!=\u001b[39m \u001b[38;5;28mlen\u001b[39m(s):\n",
      "File \u001b[0;32m/usr/lib/python3/dist-packages/simplejson/decoder.py:400\u001b[0m, in \u001b[0;36mJSONDecoder.raw_decode\u001b[0;34m(self, s, idx, _w, _PY3)\u001b[0m\n\u001b[1;32m    398\u001b[0m     \u001b[38;5;28;01melif\u001b[39;00m ord0 \u001b[38;5;241m==\u001b[39m \u001b[38;5;241m0xef\u001b[39m \u001b[38;5;129;01mand\u001b[39;00m s[idx:idx \u001b[38;5;241m+\u001b[39m \u001b[38;5;241m3\u001b[39m] \u001b[38;5;241m==\u001b[39m \u001b[38;5;124m'\u001b[39m\u001b[38;5;130;01m\\xef\u001b[39;00m\u001b[38;5;130;01m\\xbb\u001b[39;00m\u001b[38;5;130;01m\\xbf\u001b[39;00m\u001b[38;5;124m'\u001b[39m:\n\u001b[1;32m    399\u001b[0m         idx \u001b[38;5;241m+\u001b[39m\u001b[38;5;241m=\u001b[39m \u001b[38;5;241m3\u001b[39m\n\u001b[0;32m--> 400\u001b[0m \u001b[38;5;28;01mreturn\u001b[39;00m \u001b[38;5;28;43mself\u001b[39;49m\u001b[38;5;241;43m.\u001b[39;49m\u001b[43mscan_once\u001b[49m\u001b[43m(\u001b[49m\u001b[43ms\u001b[49m\u001b[43m,\u001b[49m\u001b[43m \u001b[49m\u001b[43midx\u001b[49m\u001b[38;5;241;43m=\u001b[39;49m\u001b[43m_w\u001b[49m\u001b[43m(\u001b[49m\u001b[43ms\u001b[49m\u001b[43m,\u001b[49m\u001b[43m \u001b[49m\u001b[43midx\u001b[49m\u001b[43m)\u001b[49m\u001b[38;5;241;43m.\u001b[39;49m\u001b[43mend\u001b[49m\u001b[43m(\u001b[49m\u001b[43m)\u001b[49m\u001b[43m)\u001b[49m\n",
      "\u001b[0;31mJSONDecodeError\u001b[0m: Expecting value: line 1 column 1 (char 0)"
     ]
    }
   ],
   "source": [
    "# getting todays date\n",
    "current_day = datetime.date.today()\n",
    "\n",
    "symbol_dict = {}\n",
    "for s in my_symbols:\n",
    "    # pulling dates for curreny symbol\n",
    "    dates = requests.get(uri_option_exp + symbol_call + s, auth = auth).json()\n",
    "    expiration_dates = dates['response']['expirationdates']['date']\n",
    "\n",
    "    exp_date_list = []\n",
    "    for i in expiration_dates:    \n",
    "        if (datetime.datetime.strptime(i, '%Y-%m-%d').date() - current_day).days <= 12:\n",
    "            exp_date_list.append(i.split('-')[0] + i.split('-')[1] + i.split('-')[2])\n",
    "            \n",
    "    symbol_dict[s] = exp_date_list\n",
    "    \n",
    "    # pulling option chain for specific date and multiple tickers\n",
    "i = 1\n",
    "option_list = []\n",
    "for sym, exp_dates in symbol_dict.items():\n",
    "    stock_price = requests.get(uri_stock + stock_symbol + sym, auth = auth).json()\n",
    "    stock_ask = stock_price['response']['quotes']['quote']['ask']\n",
    "    stock_bid = stock_price['response']['quotes']['quote']['bid']\n",
    "    stock_last = stock_price['response']['quotes']['quote']['last']\n",
    "    for exp_date in exp_dates:\n",
    "        r = requests.get(uri_option + symbol_call + sym + date_qry + exp_date, auth = auth).json()\n",
    "        my_calls = r['response']['quotes']['quote']\n",
    "        for my_call in my_calls:\n",
    "            option_sublist = []\n",
    "            option_sublist.append(my_call['undersymbol'])\n",
    "            option_sublist.append(stock_last)\n",
    "            option_sublist.append(stock_ask)\n",
    "            option_sublist.append(stock_bid)\n",
    "            option_sublist.append(current_day)\n",
    "            option_sublist.append(exp_date[0:4] + '-' + exp_date[4:6] + '-' + exp_date[6:8])\n",
    "            option_sublist.append(my_call['ask'])\n",
    "            option_sublist.append(my_call['bid'])\n",
    "            option_sublist.append(my_call['strikeprice'])\n",
    "            option_sublist.append(my_call['imp_Volatility'])\n",
    "            option_sublist.append(my_call['idelta'])\n",
    "            option_sublist.append(my_call['openinterest'])\n",
    "            option_sublist.append(my_call['put_call'])\n",
    "            option_list.append(option_sublist)\n",
    "\n",
    "options_df = pd.DataFrame(option_list, columns =['under_ticker', 'stock_current', 'stock_ask', \n",
    "                                                 'stock_bid', 'current_day', 'expiration_date', 'option_ask',\n",
    "                                                 'option_bid', 'strike', 'volatility', 'delta',\n",
    "                                                 'open_interest', 'option_type'])\n",
    "\n",
    "#picking just the options for start of the wheel\n",
    "puts = options_df[(options_df['option_type']=='put') & \n",
    "           (options_df['delta'].astype(float) <= -0.25) & (options_df['delta'].astype(float) >= -0.4)]\n",
    "\n",
    "# adjusting the column types in the dataframe\n",
    "puts.loc[:, 'stock_current'] = puts.loc[:, 'stock_current'].astype('float') \n",
    "puts.loc[:, 'stock_ask'] = puts.loc[:, 'stock_ask'].astype('float') \n",
    "puts.loc[:, 'stock_bid'] = puts.loc[:, 'stock_bid'].astype('float') \n",
    "puts.loc[:, 'option_ask'] = puts.loc[:, 'option_ask'].astype('float') \n",
    "puts.loc[:, 'option_bid'] = puts.loc[:, 'option_bid'].astype('float') \n",
    "puts.loc[:, 'strike'] = puts.loc[:, 'strike'].astype('float') \n",
    "puts.loc[:, 'volatility'] = puts.loc[:, 'volatility'].astype('float') \n",
    "puts.loc[:, 'delta'] = puts.loc[:, 'delta'].astype('float') \n",
    "puts.loc[:, 'open_interest'] = puts.loc[:, 'open_interest'].astype('int') \n",
    "puts.loc[:, 'current_day'] = puts.loc[:, 'current_day'].apply(pd.to_datetime)\n",
    "puts.loc[:, 'expiration_date'] = pd.to_datetime(puts.loc[:, 'expiration_date'])\n",
    "puts.loc[:, 'exp_date'] = pd.to_datetime(puts.loc[:, 'expiration_date']).apply(lambda x: x.date())\n",
    "\n",
    "#building the analysis columns into the datafram\n",
    "puts.loc[:, 'days_to_exp'] =  (puts.loc[:, 'expiration_date']\\\n",
    "                                   - puts.loc[:, 'current_day']) / np.timedelta64(1, 'D')\n",
    "puts.loc[:, 'price_change'] = ((puts.loc[:, 'stock_current'] \\\n",
    "                                    / puts.loc[:, 'strike']) - 1).map('{:.2%}'.format)\n",
    "\n",
    "puts.loc[:, 'annul_premium_ask'] = ((((puts.loc[:, 'option_ask'] * 100) \\\n",
    "                                           / (puts.loc[:, 'days_to_exp'] +1)) * 365) \\\n",
    "                                         / (puts.loc[:, 'strike'] * 100)).map('{:.2%}'.format)\n",
    "puts.loc[:, 'annul_premium_bid'] = ((((puts.loc[:, 'option_bid'] * 100) \\\n",
    "                                           / (puts.loc[:, 'days_to_exp'] +1)) * 365) \\\n",
    "                                         / (puts.loc[:, 'strike'] * 100)).map('{:.2%}'.format)\n",
    "\n",
    "# sorting the final output\n",
    "target_puts = puts[['under_ticker', 'stock_current', 'strike', 'price_change', 'exp_date', 'days_to_exp', \n",
    "          'option_ask', 'option_bid', 'annul_premium_ask', 'annul_premium_bid']]\n"
   ]
  },
  {
   "cell_type": "markdown",
   "id": "07170843",
   "metadata": {},
   "source": [
    "## Outputs"
   ]
  },
  {
   "cell_type": "code",
   "execution_count": null,
   "id": "59371c09",
   "metadata": {},
   "outputs": [],
   "source": [
    "target_puts"
   ]
  },
  {
   "cell_type": "code",
   "execution_count": null,
   "id": "b8e66001",
   "metadata": {},
   "outputs": [],
   "source": [
    "# picking highest return for each ticker\n",
    "select_puts = []\n",
    "for sym in my_symbols:\n",
    "    max_return = 0\n",
    "    for row in target_puts.iterrows():\n",
    "        curr = float(row[1]['annul_premium_ask'].strip('%'))\n",
    "        if row[1]['under_ticker'].lower() == sym and curr > max_return :\n",
    "            max_return = curr\n",
    "            ticker_max = row[0]\n",
    "    select_puts.append(ticker_max)\n",
    "target_puts.loc[select_puts, :].transpose()"
   ]
  }
 ],
 "metadata": {
  "kernelspec": {
   "display_name": "Python 3 (ipykernel)",
   "language": "python",
   "name": "python3"
  },
  "language_info": {
   "codemirror_mode": {
    "name": "ipython",
    "version": 3
   },
   "file_extension": ".py",
   "mimetype": "text/x-python",
   "name": "python",
   "nbconvert_exporter": "python",
   "pygments_lexer": "ipython3",
   "version": "3.12.3"
  }
 },
 "nbformat": 4,
 "nbformat_minor": 5
}
